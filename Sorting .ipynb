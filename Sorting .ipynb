{
 "cells": [
  {
   "cell_type": "code",
   "execution_count": 2,
   "metadata": {},
   "outputs": [],
   "source": [
    "import numpy as np"
   ]
  },
  {
   "cell_type": "code",
   "execution_count": 4,
   "metadata": {},
   "outputs": [
    {
     "name": "stdout",
     "output_type": "stream",
     "text": [
      "[ 1.03073682 -0.42622435 -0.3417883   0.0689872   0.71852861 -0.01398739\n",
      "  0.93628366 -1.41408324]\n"
     ]
    }
   ],
   "source": [
    "new = np.random.randn(8)   #also can use (i,j) matrix\n",
    "print(new)"
   ]
  },
  {
   "cell_type": "code",
   "execution_count": 5,
   "metadata": {},
   "outputs": [
    {
     "data": {
      "text/plain": [
       "array([-1.41408324, -0.42622435, -0.3417883 , -0.01398739,  0.0689872 ,\n",
       "        0.71852861,  0.93628366,  1.03073682])"
      ]
     },
     "execution_count": 5,
     "metadata": {},
     "output_type": "execute_result"
    }
   ],
   "source": [
    "new.sort()\n",
    "new"
   ]
  },
  {
   "cell_type": "code",
   "execution_count": 8,
   "metadata": {},
   "outputs": [
    {
     "data": {
      "text/plain": [
       "array([-1.41408324, -0.42622435, -0.3417883 , -0.01398739,  0.0689872 ,\n",
       "        0.71852861,  0.93628366,  1.03073682])"
      ]
     },
     "execution_count": 8,
     "metadata": {},
     "output_type": "execute_result"
    }
   ],
   "source": [
    "new.sort(0)"
   ]
  },
  {
   "cell_type": "code",
   "execution_count": 9,
   "metadata": {},
   "outputs": [
    {
     "data": {
      "text/plain": [
       "array([[ 1.17978959, -0.17699003, -0.41806006, -1.64542653],\n",
       "       [-0.51384063,  1.23420732,  1.06761352, -0.93810882],\n",
       "       [ 0.23733154, -0.38574773,  1.36448378, -0.69268901],\n",
       "       [ 0.30541022, -0.10053523, -0.77514337, -1.10138765]])"
      ]
     },
     "execution_count": 9,
     "metadata": {},
     "output_type": "execute_result"
    }
   ],
   "source": [
    "new2 = np.random.randn(4,4)\n",
    "new2"
   ]
  },
  {
   "cell_type": "code",
   "execution_count": 13,
   "metadata": {},
   "outputs": [
    {
     "data": {
      "text/plain": [
       "array([[-1.64542653, -0.41806006, -0.17699003,  1.17978959],\n",
       "       [-0.93810882, -0.51384063,  1.06761352,  1.23420732],\n",
       "       [-0.69268901, -0.38574773,  0.23733154,  1.36448378],\n",
       "       [-1.10138765, -0.77514337, -0.10053523,  0.30541022]])"
      ]
     },
     "execution_count": 13,
     "metadata": {},
     "output_type": "execute_result"
    }
   ],
   "source": [
    "new2.sort(1)   #sorted by row\n",
    "new2"
   ]
  },
  {
   "cell_type": "code",
   "execution_count": 15,
   "metadata": {},
   "outputs": [],
   "source": [
    "personals = np.array(['Kobe', 'Nopal', 'Cutegirl', 'Bonda', 'Kobe', 'Manu', 'Kobe'])"
   ]
  },
  {
   "cell_type": "code",
   "execution_count": 16,
   "metadata": {},
   "outputs": [
    {
     "data": {
      "text/plain": [
       "array(['Bonda', 'Cutegirl', 'Kobe', 'Manu', 'Nopal'], dtype='<U8')"
      ]
     },
     "execution_count": 16,
     "metadata": {},
     "output_type": "execute_result"
    }
   ],
   "source": [
    "np.unique(personals)       #show array of DISTINCT personal"
   ]
  },
  {
   "cell_type": "code",
   "execution_count": 18,
   "metadata": {},
   "outputs": [
    {
     "data": {
      "text/plain": [
       "{'Bonda', 'Cutegirl', 'Kobe', 'Manu', 'Nopal'}"
      ]
     },
     "execution_count": 18,
     "metadata": {},
     "output_type": "execute_result"
    }
   ],
   "source": [
    "set(personals)"
   ]
  },
  {
   "cell_type": "code",
   "execution_count": 22,
   "metadata": {},
   "outputs": [
    {
     "data": {
      "text/plain": [
       "array([ True, False, False, False,  True, False,  True])"
      ]
     },
     "execution_count": 22,
     "metadata": {},
     "output_type": "execute_result"
    }
   ],
   "source": [
    "np.in1d(personals, ['Kobe'])    #boolean to check something"
   ]
  },
  {
   "cell_type": "code",
   "execution_count": 28,
   "metadata": {},
   "outputs": [
    {
     "data": {
      "text/plain": [
       "array(['Kobe'], dtype='<U8')"
      ]
     },
     "execution_count": 28,
     "metadata": {},
     "output_type": "execute_result"
    }
   ],
   "source": [
    "np.intersect1d(personals, 'Kobe')"
   ]
  },
  {
   "cell_type": "code",
   "execution_count": 33,
   "metadata": {},
   "outputs": [
    {
     "data": {
      "text/plain": [
       "array(['Bonda', 'Cutegirl', 'Kobe', 'Manu', 'Nopal'], dtype='<U8')"
      ]
     },
     "execution_count": 33,
     "metadata": {},
     "output_type": "execute_result"
    }
   ],
   "source": [
    "np.union1d(personals, 'Kobe')              "
   ]
  },
  {
   "cell_type": "code",
   "execution_count": 35,
   "metadata": {},
   "outputs": [],
   "source": [
    "cp = np.array([[1,2,3],[4,5,6]])"
   ]
  },
  {
   "cell_type": "code",
   "execution_count": 41,
   "metadata": {},
   "outputs": [
    {
     "name": "stdout",
     "output_type": "stream",
     "text": [
      "CP array :[[1 2 3]\n",
      " [4 5 6]]\n"
     ]
    },
    {
     "data": {
      "text/plain": [
       "array([[ 58,  64],\n",
       "       [139, 154]])"
      ]
     },
     "execution_count": 41,
     "metadata": {},
     "output_type": "execute_result"
    }
   ],
   "source": [
    "dp = np.array([[7,8],[9,10],[11,12]])\n",
    "\n",
    "print('CP array :{}'.format(cp))\n",
    "cp.dot(dp)                           #eelement wise multipication\n"
   ]
  },
  {
   "cell_type": "code",
   "execution_count": 52,
   "metadata": {},
   "outputs": [
    {
     "data": {
      "text/plain": [
       "array([ 7,  9, 10, 11, 12])"
      ]
     },
     "execution_count": 52,
     "metadata": {},
     "output_type": "execute_result"
    }
   ],
   "source": [
    "np.delete(dp, 1)"
   ]
  },
  {
   "cell_type": "code",
   "execution_count": 54,
   "metadata": {},
   "outputs": [],
   "source": []
  },
  {
   "cell_type": "code",
   "execution_count": 83,
   "metadata": {},
   "outputs": [
    {
     "name": "stdout",
     "output_type": "stream",
     "text": [
      "[[-1.98721567  0.03836335  0.06309125  0.46203718  0.93973783]\n",
      " [ 0.84225352  0.45605925  1.2223877   1.49918428 -1.56567048]\n",
      " [ 0.24876604 -0.53390642  0.21612774  0.91876847 -1.65878476]\n",
      " [-0.57658378  0.66589483  1.78991624 -0.11899816 -0.89860615]\n",
      " [ 0.16159665  0.3471577   0.69002287  0.10632703  0.51854422]]\n",
      "[[-0.37724486  0.01199053  0.07499687 -0.22418141  0.57128659]\n",
      " [ 0.09963732  1.3190661  -1.93635331  0.15085275 -2.13066932]\n",
      " [-0.08746564 -0.56937837  0.8285931   0.25801077  1.53707921]\n",
      " [ 0.35219069  0.48461121  0.04056168 -0.42942878  0.21053231]\n",
      " [ 0.09503055 -0.22853356  0.16206858 -0.28640986  1.08834533]]\n"
     ]
    }
   ],
   "source": [
    "#numpy.linalg has std matrix operations like determinants and inverse\n",
    "from numpy.linalg import inv,qr\n",
    "sp = np.random.randn(5,5)\n",
    "print(sp)\n",
    "print(inv(sp))\n",
    "rt = inv(sp)"
   ]
  },
  {
   "cell_type": "code",
   "execution_count": 65,
   "metadata": {},
   "outputs": [
    {
     "data": {
      "text/plain": [
       "array([[ 1.00000000e+00,  4.30211422e-16,  1.07552856e-16,\n",
       "        -5.52943108e-17,  6.41847686e-17],\n",
       "       [ 1.11022302e-16,  1.00000000e+00,  1.94289029e-16,\n",
       "         3.12250226e-17,  2.77555756e-17],\n",
       "       [ 1.80411242e-16,  4.02455846e-16,  1.00000000e+00,\n",
       "        -1.30104261e-18,  0.00000000e+00],\n",
       "       [-4.44089210e-16,  6.66133815e-16,  5.55111512e-17,\n",
       "         1.00000000e+00, -1.11022302e-16],\n",
       "       [-1.38777878e-16,  9.71445147e-17,  3.46944695e-18,\n",
       "         7.80625564e-18,  1.00000000e+00]])"
      ]
     },
     "execution_count": 65,
     "metadata": {},
     "output_type": "execute_result"
    }
   ],
   "source": [
    "# to calculate product of matrix and its inverse\n",
    "sp.dot(rt)"
   ]
  },
  {
   "cell_type": "code",
   "execution_count": 66,
   "metadata": {},
   "outputs": [],
   "source": [
    "#other matrix function:\n",
    "#diag(return diagonal)\n",
    "#trace(sum of diagonal elements)\n",
    "#det(matrix determinant)"
   ]
  },
  {
   "cell_type": "code",
   "execution_count": 85,
   "metadata": {},
   "outputs": [
    {
     "data": {
      "text/plain": [
       "array([[ 0.47271471,  0.25658588,  0.27397458],\n",
       "       [ 1.39066957, -1.02059787, -0.12917927],\n",
       "       [-0.10456499,  0.44357564,  0.11051933]])"
      ]
     },
     "execution_count": 85,
     "metadata": {},
     "output_type": "execute_result"
    }
   ],
   "source": [
    "zp = np.random.randn(3,3)\n",
    "zp"
   ]
  },
  {
   "cell_type": "code",
   "execution_count": 93,
   "metadata": {},
   "outputs": [
    {
     "data": {
      "text/plain": [
       "matrix([[3, 4],\n",
       "        [5, 6]])"
      ]
     },
     "execution_count": 93,
     "metadata": {},
     "output_type": "execute_result"
    }
   ],
   "source": [
    "mm = np.mat(\"3 4;5 6\")\n",
    "mm"
   ]
  },
  {
   "cell_type": "code",
   "execution_count": 94,
   "metadata": {},
   "outputs": [
    {
     "data": {
      "text/plain": [
       "-2.0000000000000013"
      ]
     },
     "execution_count": 94,
     "metadata": {},
     "output_type": "execute_result"
    }
   ],
   "source": [
    "np.linalg.det(mm)"
   ]
  }
 ],
 "metadata": {
  "kernelspec": {
   "display_name": "Python 3",
   "language": "python",
   "name": "python3"
  },
  "language_info": {
   "codemirror_mode": {
    "name": "ipython",
    "version": 3
   },
   "file_extension": ".py",
   "mimetype": "text/x-python",
   "name": "python",
   "nbconvert_exporter": "python",
   "pygments_lexer": "ipython3",
   "version": "3.7.1"
  }
 },
 "nbformat": 4,
 "nbformat_minor": 2
}
