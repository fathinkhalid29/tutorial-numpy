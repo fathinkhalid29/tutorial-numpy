{
 "cells": [
  {
   "cell_type": "code",
   "execution_count": 2,
   "metadata": {},
   "outputs": [],
   "source": [
    "import numpy as np\n",
    "matrix = np.arange(-4,4,1) #make an array from -4 to 3 by adding 1 \n",
    "x,y = np.meshgrid(matrix, matrix)"
   ]
  },
  {
   "cell_type": "code",
   "execution_count": 3,
   "metadata": {},
   "outputs": [
    {
     "name": "stdout",
     "output_type": "stream",
     "text": [
      "Matrix values of y: [[-4 -4 -4 -4 -4 -4 -4 -4]\n",
      " [-3 -3 -3 -3 -3 -3 -3 -3]\n",
      " [-2 -2 -2 -2 -2 -2 -2 -2]\n",
      " [-1 -1 -1 -1 -1 -1 -1 -1]\n",
      " [ 0  0  0  0  0  0  0  0]\n",
      " [ 1  1  1  1  1  1  1  1]\n",
      " [ 2  2  2  2  2  2  2  2]\n",
      " [ 3  3  3  3  3  3  3  3]]\n"
     ]
    }
   ],
   "source": [
    "print('Matrix values of y: {}'.format(y))"
   ]
  },
  {
   "cell_type": "code",
   "execution_count": 4,
   "metadata": {},
   "outputs": [
    {
     "name": "stdout",
     "output_type": "stream",
     "text": [
      "Matrix values of y: [[-4 -3 -2 -1  0  1  2  3]\n",
      " [-4 -3 -2 -1  0  1  2  3]\n",
      " [-4 -3 -2 -1  0  1  2  3]\n",
      " [-4 -3 -2 -1  0  1  2  3]\n",
      " [-4 -3 -2 -1  0  1  2  3]\n",
      " [-4 -3 -2 -1  0  1  2  3]\n",
      " [-4 -3 -2 -1  0  1  2  3]\n",
      " [-4 -3 -2 -1  0  1  2  3]]\n"
     ]
    }
   ],
   "source": [
    "print('Matrix values of y: {}'.format(x))"
   ]
  },
  {
   "cell_type": "code",
   "execution_count": 5,
   "metadata": {},
   "outputs": [
    {
     "name": "stdout",
     "output_type": "stream",
     "text": [
      "[(1, 6, True), (2, 7, False), (3, 8, True), (4, 9, True), (5, 10, False)]\n"
     ]
    }
   ],
   "source": [
    "x1 = np.array([1,2,3,4,5])\n",
    "y1 = np.array([6,7,8,9,10])\n",
    "cond = [True, False, True, True, False]\n",
    "\n",
    "#call the value for every array above\n",
    "z1 = [(x,y,z) for x,y,z in zip(x1,y1,cond)]     #used zip function to illustrated\n",
    "print(z1)"
   ]
  },
  {
   "cell_type": "code",
   "execution_count": 6,
   "metadata": {},
   "outputs": [
    {
     "data": {
      "text/plain": [
       "array([ 1,  7,  3,  4, 10])"
      ]
     },
     "execution_count": 6,
     "metadata": {},
     "output_type": "execute_result"
    }
   ],
   "source": [
    "np.where(cond, x1, y1)     #if TRUE, call first array x1"
   ]
  },
  {
   "cell_type": "code",
   "execution_count": 7,
   "metadata": {},
   "outputs": [
    {
     "name": "stdout",
     "output_type": "stream",
     "text": [
      "[[-0.01847518 -1.85316327  0.48329978 -0.33297626 -1.08760809]\n",
      " [-1.03526911  0.65617447  0.03393195 -0.55410286 -0.35966957]\n",
      " [-0.70029033 -0.93348051 -1.05555513 -0.71366543  0.39660984]\n",
      " [ 0.39873304 -1.22925914 -0.43855504  0.15085761  0.56255271]\n",
      " [-0.76950064  1.91335354  0.43371948  0.39759613  1.15363039]]\n"
     ]
    }
   ],
   "source": [
    "rand = np.random.randn(5,5)\n",
    "\n",
    "print(rand)"
   ]
  },
  {
   "cell_type": "code",
   "execution_count": 8,
   "metadata": {},
   "outputs": [
    {
     "name": "stdout",
     "output_type": "stream",
     "text": [
      "[[-1 -1  1 -1 -1]\n",
      " [-1  1  1 -1 -1]\n",
      " [-1 -1 -1 -1  1]\n",
      " [ 1 -1 -1  1  1]\n",
      " [-1  1  1  1  1]]\n"
     ]
    }
   ],
   "source": [
    "#if value in rand > 0, replace it with 1.. else -1\n",
    "\n",
    "print(np.where(rand>0, 1, -1))"
   ]
  },
  {
   "cell_type": "code",
   "execution_count": 10,
   "metadata": {},
   "outputs": [
    {
     "data": {
      "text/plain": [
       "array([[-0.01847518, -1.85316327,  1.        , -0.33297626, -1.08760809],\n",
       "       [-1.03526911,  1.        ,  1.        , -0.55410286, -0.35966957],\n",
       "       [-0.70029033, -0.93348051, -1.05555513, -0.71366543,  1.        ],\n",
       "       [ 1.        , -1.22925914, -0.43855504,  1.        ,  1.        ],\n",
       "       [-0.76950064,  1.        ,  1.        ,  1.        ,  1.        ]])"
      ]
     },
     "execution_count": 10,
     "metadata": {},
     "output_type": "execute_result"
    }
   ],
   "source": [
    "#to set rand >0 as 1 and <0 with actual values. np.where(condition, nilai positive, nilai negatif)\n",
    "\n",
    "np.where(rand>0, 1, rand)"
   ]
  },
  {
   "cell_type": "code",
   "execution_count": null,
   "metadata": {},
   "outputs": [],
   "source": []
  },
  {
   "cell_type": "code",
   "execution_count": null,
   "metadata": {},
   "outputs": [],
   "source": []
  },
  {
   "cell_type": "code",
   "execution_count": null,
   "metadata": {},
   "outputs": [],
   "source": []
  }
 ],
 "metadata": {
  "kernelspec": {
   "display_name": "Python 3",
   "language": "python",
   "name": "python3"
  },
  "language_info": {
   "codemirror_mode": {
    "name": "ipython",
    "version": 3
   },
   "file_extension": ".py",
   "mimetype": "text/x-python",
   "name": "python",
   "nbconvert_exporter": "python",
   "pygments_lexer": "ipython3",
   "version": "3.7.1"
  }
 },
 "nbformat": 4,
 "nbformat_minor": 2
}
