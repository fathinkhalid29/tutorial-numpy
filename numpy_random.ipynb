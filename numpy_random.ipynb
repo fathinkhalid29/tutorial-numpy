{
 "cells": [
  {
   "cell_type": "code",
   "execution_count": 6,
   "metadata": {},
   "outputs": [
    {
     "name": "stdout",
     "output_type": "stream",
     "text": [
      "[ True False False  True  True False False False  True False  True]\n"
     ]
    }
   ],
   "source": [
    "#import random module from NUmpy\n",
    "import numpy as np\n",
    "person = np.array(['Ana', 'Tini', 'Zaza', 'Ana', 'Ana', 'Zaza', 'Aini', 'Zaza', 'Ana', 'Tini', 'Ana'])\n",
    "print(person == 'Ana')"
   ]
  },
  {
   "cell_type": "code",
   "execution_count": 9,
   "metadata": {},
   "outputs": [],
   "source": [
    "#import random no from Numpy\n",
    "\n",
    "from numpy import random"
   ]
  },
  {
   "cell_type": "code",
   "execution_count": 10,
   "metadata": {},
   "outputs": [],
   "source": [
    "random_no = random.randn(11,4)"
   ]
  },
  {
   "cell_type": "code",
   "execution_count": 11,
   "metadata": {},
   "outputs": [
    {
     "name": "stdout",
     "output_type": "stream",
     "text": [
      "[[-2.01541074e+00  7.43151095e-01 -5.36672993e-01  1.82266743e-01]\n",
      " [ 1.09545753e+00  1.79711321e-01 -1.35164191e+00  2.34689807e-03]\n",
      " [ 9.02262668e-01 -4.18916158e-01 -4.08849098e-01  7.90247589e-01]\n",
      " [ 1.58303149e-01  9.77852470e-01 -1.35260213e-01 -4.83186341e-01]\n",
      " [-1.29262105e-01 -1.11223881e+00  2.42174452e-01 -1.30937794e+00]\n",
      " [-7.99985394e-02 -7.08542360e-01 -8.87826228e-01 -2.44550987e+00]\n",
      " [-9.84574313e-01  2.12974876e-01  2.66552814e-01 -1.30211517e-01]\n",
      " [-2.25244625e-02  1.17738608e-01  1.10159160e+00  1.59069047e+00]\n",
      " [-1.13557934e+00  4.10852823e-01  8.44665926e-01  1.36684012e+00]\n",
      " [ 4.61837776e-01  7.33359073e-02  7.04858947e-01 -1.78437604e+00]\n",
      " [ 1.36557616e+00  1.86601226e+00 -1.00012558e-01  1.46973004e+00]]\n"
     ]
    }
   ],
   "source": [
    "print(random_no)"
   ]
  },
  {
   "cell_type": "code",
   "execution_count": 12,
   "metadata": {},
   "outputs": [
    {
     "data": {
      "text/plain": [
       "array([[-2.01541074,  0.7431511 , -0.53667299,  0.18226674],\n",
       "       [ 0.15830315,  0.97785247, -0.13526021, -0.48318634],\n",
       "       [-0.1292621 , -1.11223881,  0.24217445, -1.30937794],\n",
       "       [-1.13557934,  0.41085282,  0.84466593,  1.36684012],\n",
       "       [ 1.36557616,  1.86601226, -0.10001256,  1.46973004]])"
      ]
     },
     "execution_count": 12,
     "metadata": {},
     "output_type": "execute_result"
    }
   ],
   "source": [
    "#Ana\n",
    "random_no[person == 'Ana']"
   ]
  },
  {
   "cell_type": "code",
   "execution_count": 14,
   "metadata": {},
   "outputs": [
    {
     "data": {
      "text/plain": [
       "array([[ 1.09545753e+00,  1.79711321e-01, -1.35164191e+00,\n",
       "         2.34689807e-03],\n",
       "       [ 9.02262668e-01, -4.18916158e-01, -4.08849098e-01,\n",
       "         7.90247589e-01],\n",
       "       [-7.99985394e-02, -7.08542360e-01, -8.87826228e-01,\n",
       "        -2.44550987e+00],\n",
       "       [-9.84574313e-01,  2.12974876e-01,  2.66552814e-01,\n",
       "        -1.30211517e-01],\n",
       "       [-2.25244625e-02,  1.17738608e-01,  1.10159160e+00,\n",
       "         1.59069047e+00],\n",
       "       [ 4.61837776e-01,  7.33359073e-02,  7.04858947e-01,\n",
       "        -1.78437604e+00]])"
      ]
     },
     "execution_count": 14,
     "metadata": {},
     "output_type": "execute_result"
    }
   ],
   "source": [
    "#not Ana\n",
    "random_no[~(person == 'Ana')]"
   ]
  },
  {
   "cell_type": "code",
   "execution_count": 15,
   "metadata": {},
   "outputs": [],
   "source": [
    "#using boolen operator &(and) | as or\n",
    "new_person = (person == 'Ana') | (person == 'Tini') "
   ]
  },
  {
   "cell_type": "code",
   "execution_count": 16,
   "metadata": {},
   "outputs": [
    {
     "name": "stdout",
     "output_type": "stream",
     "text": [
      "[ True  True False  True  True False False False  True  True  True]\n"
     ]
    }
   ],
   "source": [
    "print(new_person)"
   ]
  },
  {
   "cell_type": "code",
   "execution_count": 17,
   "metadata": {},
   "outputs": [
    {
     "data": {
      "text/plain": [
       "array([[-2.01541074,  0.7431511 , -0.53667299,  0.18226674],\n",
       "       [ 1.09545753,  0.17971132, -1.35164191,  0.0023469 ],\n",
       "       [ 0.15830315,  0.97785247, -0.13526021, -0.48318634],\n",
       "       [-0.1292621 , -1.11223881,  0.24217445, -1.30937794],\n",
       "       [-1.13557934,  0.41085282,  0.84466593,  1.36684012],\n",
       "       [ 0.46183778,  0.07333591,  0.70485895, -1.78437604],\n",
       "       [ 1.36557616,  1.86601226, -0.10001256,  1.46973004]])"
      ]
     },
     "execution_count": 17,
     "metadata": {},
     "output_type": "execute_result"
    }
   ],
   "source": [
    "random_no[new_person]"
   ]
  },
  {
   "cell_type": "code",
   "execution_count": 18,
   "metadata": {},
   "outputs": [
    {
     "data": {
      "text/plain": [
       "array([[0.        , 0.7431511 , 0.        , 0.18226674],\n",
       "       [1.09545753, 0.17971132, 0.        , 0.0023469 ],\n",
       "       [0.90226267, 0.        , 0.        , 0.79024759],\n",
       "       [0.15830315, 0.97785247, 0.        , 0.        ],\n",
       "       [0.        , 0.        , 0.24217445, 0.        ],\n",
       "       [0.        , 0.        , 0.        , 0.        ],\n",
       "       [0.        , 0.21297488, 0.26655281, 0.        ],\n",
       "       [0.        , 0.11773861, 1.1015916 , 1.59069047],\n",
       "       [0.        , 0.41085282, 0.84466593, 1.36684012],\n",
       "       [0.46183778, 0.07333591, 0.70485895, 0.        ],\n",
       "       [1.36557616, 1.86601226, 0.        , 1.46973004]])"
      ]
     },
     "execution_count": 18,
     "metadata": {},
     "output_type": "execute_result"
    }
   ],
   "source": [
    "#set -ve no to zero value\n",
    "\n",
    "random_no[random_no <0] = 0\n",
    "random_no"
   ]
  },
  {
   "cell_type": "code",
   "execution_count": null,
   "metadata": {},
   "outputs": [],
   "source": []
  }
 ],
 "metadata": {
  "kernelspec": {
   "display_name": "Python 3",
   "language": "python",
   "name": "python3"
  },
  "language_info": {
   "codemirror_mode": {
    "name": "ipython",
    "version": 3
   },
   "file_extension": ".py",
   "mimetype": "text/x-python",
   "name": "python",
   "nbconvert_exporter": "python",
   "pygments_lexer": "ipython3",
   "version": "3.7.1"
  }
 },
 "nbformat": 4,
 "nbformat_minor": 2
}
