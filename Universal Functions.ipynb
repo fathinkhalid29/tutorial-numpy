{
 "cells": [
  {
   "cell_type": "code",
   "execution_count": 4,
   "metadata": {},
   "outputs": [
    {
     "name": "stdout",
     "output_type": "stream",
     "text": [
      "[0.         1.         1.41421356 1.73205081 2.         2.23606798\n",
      " 2.44948974 2.64575131 2.82842712 3.        ]\n"
     ]
    }
   ],
   "source": [
    "#we can perform element wise operation on array by using eg. np.sqrt() / np.exp()\n",
    "\n",
    "import numpy as np\n",
    "number = np.arange(10)\n",
    "print(np.sqrt(number))"
   ]
  },
  {
   "cell_type": "code",
   "execution_count": 5,
   "metadata": {},
   "outputs": [
    {
     "name": "stdout",
     "output_type": "stream",
     "text": [
      "[1.00000000e+00 2.71828183e+00 7.38905610e+00 2.00855369e+01\n",
      " 5.45981500e+01 1.48413159e+02 4.03428793e+02 1.09663316e+03\n",
      " 2.98095799e+03 8.10308393e+03]\n"
     ]
    }
   ],
   "source": [
    "print(np.exp(number))"
   ]
  },
  {
   "cell_type": "code",
   "execution_count": 6,
   "metadata": {},
   "outputs": [
    {
     "name": "stdout",
     "output_type": "stream",
     "text": [
      "45\n"
     ]
    }
   ],
   "source": [
    "print(np.sum(number))"
   ]
  },
  {
   "cell_type": "code",
   "execution_count": 7,
   "metadata": {},
   "outputs": [
    {
     "name": "stdout",
     "output_type": "stream",
     "text": [
      "[-0.56553014  0.59762249  1.34602381  1.64130155  0.71061827 -1.13501004\n",
      "  1.21658172  0.07148569  1.2232396  -0.43855349]\n",
      "[-0.10876068  1.10567303  0.46977561  1.81273655  1.09769747  0.98387017\n",
      " -0.81942279  0.06656829 -0.13470687  1.2525869 ]\n"
     ]
    }
   ],
   "source": [
    "#usiny numpy random to make operation on array\n",
    "from numpy import random\n",
    "\n",
    "x = random.randn(10)\n",
    "\n",
    "y = random.randn(10)\n",
    "\n",
    "print(x)\n",
    "print(y)"
   ]
  },
  {
   "cell_type": "code",
   "execution_count": 9,
   "metadata": {},
   "outputs": [
    {
     "name": "stdout",
     "output_type": "stream",
     "text": [
      "[-0.10876068  1.10567303  1.34602381  1.81273655  1.09769747  0.98387017\n",
      "  1.21658172  0.07148569  1.2232396   1.2525869 ]\n"
     ]
    }
   ],
   "source": [
    "print(np.maximum(x,y))    #compare both binary function for max"
   ]
  },
  {
   "cell_type": "code",
   "execution_count": 10,
   "metadata": {},
   "outputs": [
    {
     "name": "stdout",
     "output_type": "stream",
     "text": [
      "(array([-0.56553014,  0.59762249,  0.34602381,  0.64130155,  0.71061827,\n",
      "       -0.13501004,  0.21658172,  0.07148569,  0.2232396 , -0.43855349]), array([-0.,  0.,  1.,  1.,  0., -1.,  1.,  0.,  1., -0.]))\n"
     ]
    }
   ],
   "source": [
    "print(np.modf(x))    #function modf returns fractional and integal parts"
   ]
  },
  {
   "cell_type": "code",
   "execution_count": null,
   "metadata": {},
   "outputs": [],
   "source": []
  },
  {
   "cell_type": "code",
   "execution_count": null,
   "metadata": {},
   "outputs": [],
   "source": []
  }
 ],
 "metadata": {
  "kernelspec": {
   "display_name": "Python 3",
   "language": "python",
   "name": "python3"
  },
  "language_info": {
   "codemirror_mode": {
    "name": "ipython",
    "version": 3
   },
   "file_extension": ".py",
   "mimetype": "text/x-python",
   "name": "python",
   "nbconvert_exporter": "python",
   "pygments_lexer": "ipython3",
   "version": "3.7.1"
  }
 },
 "nbformat": 4,
 "nbformat_minor": 2
}
