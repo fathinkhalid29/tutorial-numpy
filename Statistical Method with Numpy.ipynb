{
 "cells": [
  {
   "cell_type": "code",
   "execution_count": 4,
   "metadata": {},
   "outputs": [
    {
     "data": {
      "text/plain": [
       "array([[ 1.60101353,  1.87207381, -1.3356139 , -0.34169591],\n",
       "       [ 1.38231591,  0.54039347,  0.92095162, -0.41623328],\n",
       "       [-2.46150636, -0.62903515,  0.38586352,  1.15589632],\n",
       "       [ 0.12065424,  0.49017015, -1.12613408,  0.17430961]])"
      ]
     },
     "execution_count": 4,
     "metadata": {},
     "output_type": "execute_result"
    }
   ],
   "source": [
    "import numpy as np\n",
    "rdm = np.random.randn(4,4)\n",
    "rdm"
   ]
  },
  {
   "cell_type": "code",
   "execution_count": 7,
   "metadata": {},
   "outputs": [
    {
     "name": "stdout",
     "output_type": "stream",
     "text": [
      "0.14583896867559523\n",
      "0.14583896867559523\n"
     ]
    }
   ],
   "source": [
    "print(rdm.mean())\n",
    "#or\n",
    "print(np.mean(rdm))"
   ]
  },
  {
   "cell_type": "code",
   "execution_count": 10,
   "metadata": {},
   "outputs": [
    {
     "name": "stdout",
     "output_type": "stream",
     "text": [
      "2.3334234988095237\n"
     ]
    }
   ],
   "source": [
    "print(rdm.sum())"
   ]
  },
  {
   "cell_type": "code",
   "execution_count": 13,
   "metadata": {},
   "outputs": [
    {
     "name": "stdout",
     "output_type": "stream",
     "text": [
      "The arrays are: [[ 0  1  2]\n",
      " [ 3  4  5]\n",
      " [ 6  7  8]\n",
      " [ 9 10 11]]\n"
     ]
    }
   ],
   "source": [
    "jp = np.arange(12).reshape(4,3)\n",
    "print(\"The arrays are: {}\".format(jp))"
   ]
  },
  {
   "cell_type": "code",
   "execution_count": 16,
   "metadata": {},
   "outputs": [
    {
     "name": "stdout",
     "output_type": "stream",
     "text": [
      "THe sum of rows are :[18 22 26]\n"
     ]
    }
   ],
   "source": [
    "print(\"THe sum of rows are :{}\".format(np.sum(jp, axis =0)))"
   ]
  },
  {
   "cell_type": "code",
   "execution_count": 21,
   "metadata": {},
   "outputs": [
    {
     "name": "stdout",
     "output_type": "stream",
     "text": [
      "[ 3 12 21 30]\n"
     ]
    }
   ],
   "source": [
    "print(jp.sum(1))"
   ]
  },
  {
   "cell_type": "code",
   "execution_count": 26,
   "metadata": {},
   "outputs": [
    {
     "name": "stdout",
     "output_type": "stream",
     "text": [
      "[[ 0  1  3]\n",
      " [ 3  7 12]\n",
      " [ 6 13 21]\n",
      " [ 9 19 30]]\n"
     ]
    }
   ],
   "source": [
    "print(jp.cumsum(1))"
   ]
  },
  {
   "cell_type": "code",
   "execution_count": 30,
   "metadata": {},
   "outputs": [
    {
     "name": "stdout",
     "output_type": "stream",
     "text": [
      "46\n",
      "54\n"
     ]
    }
   ],
   "source": [
    "xp = np.random.randn(100)\n",
    "print((xp>0).sum())\n",
    "print((xp<0).sum())    #also can use std,var,min,max, argmin,argmax"
   ]
  },
  {
   "cell_type": "code",
   "execution_count": 32,
   "metadata": {},
   "outputs": [],
   "source": [
    "randf = np.array([True,False,True,False,True,False])"
   ]
  },
  {
   "cell_type": "code",
   "execution_count": 35,
   "metadata": {},
   "outputs": [
    {
     "name": "stdout",
     "output_type": "stream",
     "text": [
      "True\n",
      "False\n"
     ]
    }
   ],
   "source": [
    "print(randf.any())   #to check if any value are true\n",
    "print(randf.all())    #return False if a value is false, also work for non-boolean arrays"
   ]
  }
 ],
 "metadata": {
  "kernelspec": {
   "display_name": "Python 3",
   "language": "python",
   "name": "python3"
  },
  "language_info": {
   "codemirror_mode": {
    "name": "ipython",
    "version": 3
   },
   "file_extension": ".py",
   "mimetype": "text/x-python",
   "name": "python",
   "nbconvert_exporter": "python",
   "pygments_lexer": "ipython3",
   "version": "3.7.1"
  }
 },
 "nbformat": 4,
 "nbformat_minor": 2
}
